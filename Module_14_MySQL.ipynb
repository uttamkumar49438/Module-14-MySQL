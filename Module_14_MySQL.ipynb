{
  "nbformat": 4,
  "nbformat_minor": 0,
  "metadata": {
    "colab": {
      "provenance": []
    },
    "kernelspec": {
      "name": "python3",
      "display_name": "Python 3"
    },
    "language_info": {
      "name": "python"
    }
  },
  "cells": [
    {
      "cell_type": "markdown",
      "source": [
        "Q1. What is a database? Differentiate between SQL and NoSQL databases."
      ],
      "metadata": {
        "id": "aJnDXgQJfz1K"
      }
    },
    {
      "cell_type": "markdown",
      "source": [
        "A database is a structured collection of data that is organized and managed to enable efficient access, storage, retrieval, and manipulation of data.\n",
        "\n",
        "SQL databases (relational databases) and NoSQL databases (non-relational databases) differ in their data structure, schema, query language, transaction model, and scalability characteristics"
      ],
      "metadata": {
        "id": "Ybm3s3-tgV99"
      }
    },
    {
      "cell_type": "markdown",
      "source": [
        "Q2. What is DDL? Explain why CREATE, DROP, ALTER, and TRUNCATE are used with an example."
      ],
      "metadata": {
        "id": "v1DgOdA1f0na"
      }
    },
    {
      "cell_type": "markdown",
      "source": [
        "DDL stands for Data Definition Language. It is a subset of SQL (Structured Query Language) used to define, modify, and manage the structure of database objects such as tables, indexes, views, and schemas.\n",
        "\n",
        "CREATE TABLE employees (\n",
        "    id INT PRIMARY KEY,\n",
        "    name VARCHAR(50),\n",
        "    age INT,\n",
        "    department VARCHAR(50)\n",
        ");\n",
        "\n",
        "DROP TABLE employees;\n",
        "\n",
        "ALTER TABLE employees\n",
        "ADD COLUMN salary DECIMAL(10, 2);\n",
        "\n",
        "TRUNCATE TABLE employees;"
      ],
      "metadata": {
        "id": "Lc1oxbC1gcAh"
      }
    },
    {
      "cell_type": "markdown",
      "source": [
        "Q3. What is DML? Explain INSERT, UPDATE, and DELETE with an example."
      ],
      "metadata": {
        "id": "ipb1arsNf3zt"
      }
    },
    {
      "cell_type": "markdown",
      "source": [
        "DML stands for Data Manipulation Language\n",
        "\n",
        "INSERT INTO employees (id, name, age, department)\n",
        "VALUES (1, 'John Doe', 30, 'Marketing');\n",
        "\n",
        "UPDATE employees\n",
        "SET age = 35, department = 'Sales'\n",
        "WHERE id = 1;\n",
        "\n",
        "DELETE FROM employees\n",
        "WHERE id = 1;"
      ],
      "metadata": {
        "id": "hWSJT4InkJ_t"
      }
    },
    {
      "cell_type": "markdown",
      "source": [
        "Q4. What is DQL? Explain SELECT with an example."
      ],
      "metadata": {
        "id": "pXTXntGvf6kW"
      }
    },
    {
      "cell_type": "markdown",
      "source": [
        "DQL stands for Data Query Language. It is a subset of SQL (Structured Query Language) used to retrieve data from database tables.\n",
        "\n",
        "SELECT * FROM employees;"
      ],
      "metadata": {
        "id": "IYXy-RT9keMj"
      }
    },
    {
      "cell_type": "markdown",
      "source": [
        "Q5. Explain Primary Key and Foreign Key."
      ],
      "metadata": {
        "id": "SjqJDdgyf9Xg"
      }
    },
    {
      "cell_type": "markdown",
      "source": [
        "A primary key in one table serves as the reference point for establishing relationships with other tables.\n",
        "\n",
        "A foreign key in another table references the primary key in the related table, creating a link between the two tables."
      ],
      "metadata": {
        "id": "gPVHbaU6kpnp"
      }
    },
    {
      "cell_type": "markdown",
      "source": [
        "Q6. Write a python code to connect MySQL to python. Explain the cursor() and execute() method."
      ],
      "metadata": {
        "id": "-Z4Fz4DwgANB"
      }
    },
    {
      "cell_type": "code",
      "source": [
        "import mysql.connector\n",
        "\n",
        "# Establish a connection to the MySQL database\n",
        "mydb = mysql.connector.connect(\n",
        "    host=\"localhost\",\n",
        "    user=\"your_username\",\n",
        "    password=\"your_password\",\n",
        "    database=\"your_database\"\n",
        ")\n",
        "\n",
        "# Create a cursor object to interact with the database\n",
        "mycursor = mydb.cursor()\n",
        "\n",
        "# Example of executing SQL queries\n",
        "try:\n",
        "    # Execute SQL query to create a table\n",
        "    mycursor.execute(\"CREATE TABLE IF NOT EXISTS customers (id INT AUTO_INCREMENT PRIMARY KEY, name VARCHAR(255), email VARCHAR(255))\")\n",
        "\n",
        "    # Execute SQL query to insert data into the table\n",
        "    sql = \"INSERT INTO customers (name, email) VALUES (%s, %s)\"\n",
        "    val = (\"John Doe\", \"john@example.com\")\n",
        "    mycursor.execute(sql, val)\n",
        "    mydb.commit()  # Commit changes to the database\n",
        "\n",
        "    # Execute SQL query to retrieve data from the table\n",
        "    mycursor.execute(\"SELECT * FROM customers\")\n",
        "    result = mycursor.fetchall()  # Fetch all rows from the result set\n",
        "    for row in result:\n",
        "        print(row)\n",
        "\n",
        "except mysql.connector.Error as error:\n",
        "    print(\"Error executing SQL statement:\", error)\n",
        "\n",
        "# Close the cursor and database connection\n",
        "mycursor.close()\n",
        "mydb.close()\n"
      ],
      "metadata": {
        "id": "r3wPYP4Wk3_o"
      },
      "execution_count": null,
      "outputs": []
    },
    {
      "cell_type": "markdown",
      "source": [
        "Q7. Give the order of execution of SQL clauses in an SQL query."
      ],
      "metadata": {
        "id": "bYvi3IYRgDSu"
      }
    },
    {
      "cell_type": "markdown",
      "source": [
        "FROM\n",
        "WHERE\n",
        "GROUP BY\n",
        "HAVING\n",
        "SELECT\n",
        "ORDER BY\n",
        "LIMIT / OFFSET"
      ],
      "metadata": {
        "id": "ecVRV9a9lBDy"
      }
    }
  ]
}